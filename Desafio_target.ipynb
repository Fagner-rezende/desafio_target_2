{
  "nbformat": 4,
  "nbformat_minor": 0,
  "metadata": {
    "colab": {
      "provenance": [],
      "authorship_tag": "ABX9TyO3aleWZiK4WB7tQWeWep9w",
      "include_colab_link": true
    },
    "kernelspec": {
      "name": "python3",
      "display_name": "Python 3"
    },
    "language_info": {
      "name": "python"
    }
  },
  "cells": [
    {
      "cell_type": "markdown",
      "metadata": {
        "id": "view-in-github",
        "colab_type": "text"
      },
      "source": [
        "<a href=\"https://colab.research.google.com/github/Fagner-rezende/desafio_target_2/blob/main/Desafio_target.ipynb\" target=\"_parent\"><img src=\"https://colab.research.google.com/assets/colab-badge.svg\" alt=\"Open In Colab\"/></a>"
      ]
    },
    {
      "cell_type": "markdown",
      "source": [
        "# Desafio 1 - Variável soma = 91"
      ],
      "metadata": {
        "id": "wNzCEERyRcw_"
      }
    },
    {
      "cell_type": "markdown",
      "source": [
        "# Desafio 2"
      ],
      "metadata": {
        "id": "6o3pQDy_SE73"
      }
    },
    {
      "cell_type": "code",
      "source": [
        "def verifica_fibonacci(numero):\n",
        "    a, b = 0, 1\n",
        "    while b < numero:\n",
        "        a, b = b, a + b\n",
        "    if b == numero:\n",
        "        return f\"O número {numero} pertence à sequência de Fibonacci.\"\n",
        "    else:\n",
        "        return f\"O número {numero} não pertence à sequência de Fibonacci.\"\n",
        "\n",
        "numero_informado = int(input(\"Informe um número: \"))\n",
        "resultado = verifica_fibonacci(numero_informado)\n",
        "print(resultado)"
      ],
      "metadata": {
        "colab": {
          "base_uri": "https://localhost:8080/"
        },
        "id": "5xlUu6a1TzJ4",
        "outputId": "da44adc0-3e74-429b-9036-8c05353e172d"
      },
      "execution_count": 14,
      "outputs": [
        {
          "output_type": "stream",
          "name": "stdout",
          "text": [
            "Informe um número: 5\n",
            "O número 5 pertence à sequência de Fibonacci.\n"
          ]
        }
      ]
    },
    {
      "cell_type": "markdown",
      "source": [
        "# Desafio 3"
      ],
      "metadata": {
        "id": "fMPzj9aFUj22"
      }
    },
    {
      "cell_type": "code",
      "source": [
        "import pandas as pd\n",
        "\n",
        "# Carregando os dados do arquivo JSON usando Pandas\n",
        "df = pd.read_json('/content/dados.json')\n",
        "\n",
        "# Filtrando os dias com faturamento maior que zero\n",
        "df_filtrado = df[df['valor'] > 0]\n",
        "\n",
        "# O menor e maior valor de faturamento usando o pandas\n",
        "menor_faturamento = df_filtrado['valor'].min()\n",
        "maior_faturamento = df_filtrado['valor'].max()\n",
        "\n",
        "# A média mensal usando uma ferramenta do pandas\n",
        "media_mensal = df_filtrado['valor'].mean()\n",
        "\n",
        "# O número de dias com faturamento acima da média\n",
        "dias_acima_da_media = df_filtrado[df_filtrado['valor'] > media_mensal].shape[0]\n",
        "\n",
        "# Exibindo os resultados\n",
        "print(f\"Menor faturamento: {menor_faturamento}\")\n",
        "print(f\"Maior faturamento: {maior_faturamento}\")\n",
        "print(f\"Dias com faturamento acima da média: {dias_acima_da_media}\")\n"
      ],
      "metadata": {
        "colab": {
          "base_uri": "https://localhost:8080/"
        },
        "id": "Qpk_YslgUmBH",
        "outputId": "7eb4533c-d543-45c7-def6-f55beee05db4"
      },
      "execution_count": 16,
      "outputs": [
        {
          "output_type": "stream",
          "name": "stdout",
          "text": [
            "Menor faturamento: 373.7838\n",
            "Maior faturamento: 48924.2448\n",
            "Dias com faturamento acima da média: 10\n"
          ]
        }
      ]
    },
    {
      "cell_type": "markdown",
      "source": [
        "#Desafio 4"
      ],
      "metadata": {
        "id": "8-6iCcFUWjfN"
      }
    },
    {
      "cell_type": "code",
      "source": [
        "# Valores de faturamento por estado\n",
        "faturamento_estados = {\n",
        "    'SP': 67836.43,\n",
        "    'RJ': 36678.66,\n",
        "    'MG': 29229.88,\n",
        "    'ES': 27165.48,\n",
        "    'Outros': 19849.53\n",
        "}\n",
        "\n",
        "# Calculando o faturamento total, usando sum para soma e values para pegar apenas os valores\n",
        "faturamento_total = sum(faturamento_estados.values())\n",
        "\n",
        "# Calculando o percentual de cada estado, usando o loop for para pegar todos os dados\n",
        "percentuais = {estado: (valor / faturamento_total) * 100 for estado, valor in faturamento_estados.items()}\n",
        "\n",
        "# Resultados, usando duas casas decimais (2f)\n",
        "for estado, percentual in percentuais.items():\n",
        "    print(f\"{estado}: {percentual:.2f}%\")\n"
      ],
      "metadata": {
        "colab": {
          "base_uri": "https://localhost:8080/"
        },
        "id": "Jveg6SZOWegC",
        "outputId": "3114f96e-d6e9-4142-bb51-363745da00cb"
      },
      "execution_count": 19,
      "outputs": [
        {
          "output_type": "stream",
          "name": "stdout",
          "text": [
            "SP: 37.53%\n",
            "RJ: 20.29%\n",
            "MG: 16.17%\n",
            "ES: 15.03%\n",
            "Outros: 10.98%\n"
          ]
        }
      ]
    },
    {
      "cell_type": "markdown",
      "source": [
        "Extra, usando o Matplotlib para criar um grafico de pizza com esses dados para melhor exibição."
      ],
      "metadata": {
        "id": "p2u0mdPiX0xN"
      }
    },
    {
      "cell_type": "code",
      "source": [
        "import matplotlib.pyplot as plt\n",
        "\n",
        "# Dados dos estados e seus percentuais\n",
        "estados = list(percentuais.keys())\n",
        "percentuais_valores = list(percentuais.values())\n",
        "\n",
        "# Criando o gráfico de pizza\n",
        "plt.figure(figsize=(8, 6))\n",
        "plt.pie(percentuais_valores, labels=estados, autopct='%1.1f%%', startangle=140)\n",
        "plt.title(\"Percentual de Faturamento por Estado\")\n",
        "\n",
        "# Exibindo o gráfico\n",
        "plt.show()\n"
      ],
      "metadata": {
        "colab": {
          "base_uri": "https://localhost:8080/",
          "height": 521
        },
        "id": "lkypqNvEX9dQ",
        "outputId": "a9a121d0-c648-4322-9c09-b56e27acffcc"
      },
      "execution_count": 21,
      "outputs": [
        {
          "output_type": "display_data",
          "data": {
            "text/plain": [
              "<Figure size 800x600 with 1 Axes>"
            ],
            "image/png": "[encoded data removed]"
          },
          "metadata": {}
        }
      ]
    },
    {
      "cell_type": "markdown",
      "source": [
        "#Desafio 5"
      ],
      "metadata": {
        "id": "rGgHBaRhY0PY"
      }
    },
    {
      "cell_type": "code",
      "source": [
        "texto = input(\"Informe uma string: \")\n",
        "\n",
        "string_invertida = \"\"\n",
        "\n",
        "# Inversão manual da string: O laço for percorre a string de trás para frente, começando do último caractere (índice len(texto) - 1) até o primeiro (índice 0), e vai adicionando cada caractere na variável string_invertida.\n",
        "for i in range(len(texto) - 1, -1, -1):\n",
        "    string_invertida += texto[i]\n",
        "\n",
        "# String invertida\n",
        "print(f\"String invertida: {string_invertida}\")\n"
      ],
      "metadata": {
        "colab": {
          "base_uri": "https://localhost:8080/"
        },
        "id": "uzFiDY0QY2n-",
        "outputId": "8200c543-e091-4df0-af99-7420e2138f20"
      },
      "execution_count": 23,
      "outputs": [
        {
          "output_type": "stream",
          "name": "stdout",
          "text": [
            "Informe uma string: Target Sistemas\n",
            "String invertida: sametsiS tegraT\n"
          ]
        }
      ]
    }
  ]
}